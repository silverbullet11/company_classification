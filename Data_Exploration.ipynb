{
 "cells": [
  {
   "cell_type": "code",
   "execution_count": 7,
   "metadata": {},
   "outputs": [],
   "source": [
    "import nltk\n",
    "from nltk import word_tokenize, sent_tokenize\n",
    "import gensim\n",
    "from gensim.models.word2vec import Word2Vec\n",
    "from sklearn.manifold import TSNE\n",
    "import pandas as pd\n",
    "from bokeh.io import output_notebook\n",
    "from bokeh.plotting import show, figure\n",
    "import jieba\n",
    "import re\n",
    "%matplotlib inline"
   ]
  },
  {
   "cell_type": "code",
   "execution_count": 31,
   "metadata": {
    "scrolled": true
   },
   "outputs": [],
   "source": [
    "training_path = 'training_with_tokens_jieba_with_stopwords.xlsx'\n",
    "testing_path = 'testing_with_tokens_jieba_with_stopwords.xlsx'\n",
    "\n",
    "df_train = pd.read_excel(training_path)\n",
    "df_testing = pd.read_excel(testing_path)"
   ]
  },
  {
   "cell_type": "code",
   "execution_count": 3,
   "metadata": {
    "scrolled": true
   },
   "outputs": [
    {
     "data": {
      "text/html": [
       "<div>\n",
       "<style scoped>\n",
       "    .dataframe tbody tr th:only-of-type {\n",
       "        vertical-align: middle;\n",
       "    }\n",
       "\n",
       "    .dataframe tbody tr th {\n",
       "        vertical-align: top;\n",
       "    }\n",
       "\n",
       "    .dataframe thead th {\n",
       "        text-align: right;\n",
       "    }\n",
       "</style>\n",
       "<table border=\"1\" class=\"dataframe\">\n",
       "  <thead>\n",
       "    <tr style=\"text-align: right;\">\n",
       "      <th></th>\n",
       "      <th>class</th>\n",
       "      <th>description</th>\n",
       "      <th>tokens</th>\n",
       "      <th>jieba_tokens</th>\n",
       "    </tr>\n",
       "  </thead>\n",
       "  <tbody>\n",
       "    <tr>\n",
       "      <th>0</th>\n",
       "      <td>2</td>\n",
       "      <td>合晟资产是一家专注于股票、债券等二级市场投资，为合格投资者提供专业资产管理服务的企业。公司业...</td>\n",
       "      <td>['合晟资产', '是', '一家', '专注', '于', '股票', '、', '债券'...</td>\n",
       "      <td>['合晟', '资产', '是', '一家', '专注', '于', '股票', '、', ...</td>\n",
       "    </tr>\n",
       "    <tr>\n",
       "      <th>1</th>\n",
       "      <td>2</td>\n",
       "      <td>公司的主营业务为向中小微企业、个体工商户、农户等客户提供贷款服务，自设立以来主营业务未发生过变化。</td>\n",
       "      <td>['公司', '的', '主营', '业务', '为', '向', '中小', '微企业',...</td>\n",
       "      <td>['公司', '的', '主营业务', '为', '向', '中小', '微', '企业',...</td>\n",
       "    </tr>\n",
       "    <tr>\n",
       "      <th>2</th>\n",
       "      <td>1</td>\n",
       "      <td>公司立足于商业地产服务，致力于为商业地产开发、销售、运营全产业链提供一整套增值服务，业务覆盖...</td>\n",
       "      <td>['公司', '立足于', '商业地产', '服务', '，', '致力于', '为', '...</td>\n",
       "      <td>['公司', '立足于', '商业地产', '服务', '，', '致力于', '为', '...</td>\n",
       "    </tr>\n",
       "    <tr>\n",
       "      <th>3</th>\n",
       "      <td>2</td>\n",
       "      <td>公司经工商管理部门核准的经营范围为“投资咨询、经济信息咨询，企业管理咨询，品牌推广策划，公共...</td>\n",
       "      <td>['公司', '经', '工商管理部门', '核准', '的', '经营', '范围', '...</td>\n",
       "      <td>['公司', '经', '工商管理', '部门', '核准', '的', '经营范围', '...</td>\n",
       "    </tr>\n",
       "    <tr>\n",
       "      <th>4</th>\n",
       "      <td>2</td>\n",
       "      <td>该公司的主营业务为在中国境内(港、澳、台除外)开展保险代理销售，依托于自身的产品研究能力和专...</td>\n",
       "      <td>['该', '公司', '的', '主营', '业务', '为', '在', '中国', '...</td>\n",
       "      <td>['该', '公司', '的', '主营业务', '为', '在', '中国', '境内',...</td>\n",
       "    </tr>\n",
       "  </tbody>\n",
       "</table>\n",
       "</div>"
      ],
      "text/plain": [
       "   class                                        description  \\\n",
       "0      2  合晟资产是一家专注于股票、债券等二级市场投资，为合格投资者提供专业资产管理服务的企业。公司业...   \n",
       "1      2  公司的主营业务为向中小微企业、个体工商户、农户等客户提供贷款服务，自设立以来主营业务未发生过变化。   \n",
       "2      1  公司立足于商业地产服务，致力于为商业地产开发、销售、运营全产业链提供一整套增值服务，业务覆盖...   \n",
       "3      2  公司经工商管理部门核准的经营范围为“投资咨询、经济信息咨询，企业管理咨询，品牌推广策划，公共...   \n",
       "4      2  该公司的主营业务为在中国境内(港、澳、台除外)开展保险代理销售，依托于自身的产品研究能力和专...   \n",
       "\n",
       "                                              tokens  \\\n",
       "0  ['合晟资产', '是', '一家', '专注', '于', '股票', '、', '债券'...   \n",
       "1  ['公司', '的', '主营', '业务', '为', '向', '中小', '微企业',...   \n",
       "2  ['公司', '立足于', '商业地产', '服务', '，', '致力于', '为', '...   \n",
       "3  ['公司', '经', '工商管理部门', '核准', '的', '经营', '范围', '...   \n",
       "4  ['该', '公司', '的', '主营', '业务', '为', '在', '中国', '...   \n",
       "\n",
       "                                        jieba_tokens  \n",
       "0  ['合晟', '资产', '是', '一家', '专注', '于', '股票', '、', ...  \n",
       "1  ['公司', '的', '主营业务', '为', '向', '中小', '微', '企业',...  \n",
       "2  ['公司', '立足于', '商业地产', '服务', '，', '致力于', '为', '...  \n",
       "3  ['公司', '经', '工商管理', '部门', '核准', '的', '经营范围', '...  \n",
       "4  ['该', '公司', '的', '主营业务', '为', '在', '中国', '境内',...  "
      ]
     },
     "execution_count": 3,
     "metadata": {},
     "output_type": "execute_result"
    }
   ],
   "source": [
    "df_train.head()"
   ]
  },
  {
   "cell_type": "code",
   "execution_count": 4,
   "metadata": {},
   "outputs": [],
   "source": [
    "with open('./stop_words.txt', 'r') as f:\n",
    "    lines = f.readlines()\n",
    "    \n",
    "stop_words = [x[:-1] for x in lines]"
   ]
  },
  {
   "cell_type": "markdown",
   "metadata": {},
   "source": [
    "#### 从百度分词的结果中提取长度大于1的分词, 用来扩充jieba分词的词典"
   ]
  },
  {
   "cell_type": "code",
   "execution_count": 34,
   "metadata": {},
   "outputs": [],
   "source": [
    "def restore_tokens_from_text(text):\n",
    "    regex_to_list = r\"[\\[\\',\\]\\(\\)）（]\"\n",
    "    space_separated_string = re.sub(regex_to_list, '', text)\n",
    "    return space_separated_string.split(' ')\n",
    "\n",
    "def generate_dict_from_baidu_tokens(df, col_name):\n",
    "    dict_tokens = set()\n",
    "    for index, row in df.iterrows():\n",
    "        tokens = restore_tokens_from_text(row[col_name])\n",
    "        for token in tokens:\n",
    "            if len(token) > 1:\n",
    "                dict_tokens.add(token)\n",
    "    return dict_tokens"
   ]
  },
  {
   "cell_type": "code",
   "execution_count": 35,
   "metadata": {},
   "outputs": [],
   "source": [
    "words_from_baidu_training = generate_dict_from_baidu_tokens(df_train, col_name='tokens')\n",
    "words_from_baidu_testing = generate_dict_from_baidu_tokens(df_testing, col_name='tokens')\n",
    "words_from_baidu = list(words_from_baidu_training.union(words_from_baidu_testing))"
   ]
  },
  {
   "cell_type": "code",
   "execution_count": 36,
   "metadata": {},
   "outputs": [
    {
     "data": {
      "text/plain": [
       "['235.84元', '瞄准', '沁阳市', '界面', '以纯']"
      ]
     },
     "execution_count": 36,
     "metadata": {},
     "output_type": "execute_result"
    }
   ],
   "source": [
    "words_from_baidu[:5]"
   ]
  },
  {
   "cell_type": "code",
   "execution_count": 37,
   "metadata": {},
   "outputs": [],
   "source": [
    "for word in words_from_baidu:\n",
    "    jieba.add_word(word)"
   ]
  },
  {
   "cell_type": "code",
   "execution_count": 38,
   "metadata": {},
   "outputs": [
    {
     "data": {
      "text/plain": [
       "'合晟资产是一家专注于股票、债券等二级市场投资，为合格投资者提供专业资产管理服务的企业。公司业务范围包括资产管理、投资咨询和投资顾问服务。公司管理的私募基金产品主要包括股票型、债券型资产管理计划或证券投资基金，管理总资产规模80亿元左右。根据中国证券投资基金业协会数据，公司管理的私募证券投资基金（顾问管理）类规模较大，公司管理规模处于50亿元以上的第一梯队。'"
      ]
     },
     "execution_count": 38,
     "metadata": {},
     "output_type": "execute_result"
    }
   ],
   "source": [
    "df_train.loc[0]['description']"
   ]
  },
  {
   "cell_type": "code",
   "execution_count": 39,
   "metadata": {
    "collapsed": true
   },
   "outputs": [
    {
     "data": {
      "text/plain": [
       "['合晟资产',\n",
       " '专注',\n",
       " '股票',\n",
       " '债券',\n",
       " '二级市场',\n",
       " '投资',\n",
       " '合格',\n",
       " '投资者',\n",
       " '资产',\n",
       " '管理',\n",
       " '企业',\n",
       " '业务范围',\n",
       " '资产',\n",
       " '管理',\n",
       " '投资',\n",
       " '咨询',\n",
       " '投资',\n",
       " '顾问',\n",
       " '管理',\n",
       " '私募基金',\n",
       " '股票型',\n",
       " '债券型',\n",
       " '资产',\n",
       " '管理',\n",
       " '计划',\n",
       " '证券投资',\n",
       " '基金',\n",
       " '管理',\n",
       " '总资产',\n",
       " '规模',\n",
       " '80亿元',\n",
       " '中国证券投资基金业协会',\n",
       " '数据',\n",
       " '管理',\n",
       " '私募证券投资基金',\n",
       " '顾问',\n",
       " '管理',\n",
       " '类',\n",
       " '规模',\n",
       " '较大',\n",
       " '管理',\n",
       " '规模',\n",
       " '处于',\n",
       " '50亿元',\n",
       " '第一',\n",
       " '梯队']"
      ]
     },
     "execution_count": 39,
     "metadata": {},
     "output_type": "execute_result"
    }
   ],
   "source": [
    "[x for x in jieba.lcut(df_train.loc[0]['description']) if x not in stop_words]"
   ]
  },
  {
   "cell_type": "code",
   "execution_count": 26,
   "metadata": {},
   "outputs": [],
   "source": [
    "def save_df_to_excel(df, file_path):\n",
    "    writer = pd.ExcelWriter(file_path)\n",
    "    df.to_excel(writer, sheet_name='Sheet1')\n",
    "    writer.save()"
   ]
  },
  {
   "cell_type": "code",
   "execution_count": 40,
   "metadata": {},
   "outputs": [],
   "source": [
    "df_train['tokens_merged'] = df_train['description'].apply(lambda x: [word for word in jieba.lcut(x) if word not in stop_words])\n",
    "df_testing['tokens_merged'] = df_testing['description'].apply(lambda x: [word for word in jieba.lcut(x) if word not in stop_words])"
   ]
  },
  {
   "cell_type": "code",
   "execution_count": 41,
   "metadata": {},
   "outputs": [],
   "source": [
    "save_df_to_excel(df_train, 'training_with_tokens.xlsx')\n",
    "save_df_to_excel(df_testing, 'testing_with_tokens.xlsx')"
   ]
  }
 ],
 "metadata": {
  "kernelspec": {
   "display_name": "Python 3",
   "language": "python",
   "name": "python3"
  },
  "language_info": {
   "codemirror_mode": {
    "name": "ipython",
    "version": 3
   },
   "file_extension": ".py",
   "mimetype": "text/x-python",
   "name": "python",
   "nbconvert_exporter": "python",
   "pygments_lexer": "ipython3",
   "version": "3.6.5"
  }
 },
 "nbformat": 4,
 "nbformat_minor": 2
}
